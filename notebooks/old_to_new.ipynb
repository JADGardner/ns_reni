{
 "cells": [
  {
   "cell_type": "markdown",
   "metadata": {},
   "source": [
    "# Converting the old RENI models into the Nerfstudio format for comparisons."
   ]
  },
  {
   "cell_type": "code",
   "execution_count": 1,
   "metadata": {},
   "outputs": [],
   "source": [
    "import os\n",
    "import torch\n",
    "import matplotlib.pyplot as plt\n",
    "import numpy as np\n",
    "from pathlib import Path\n",
    "import yaml\n",
    "from nerfstudio.cameras.rays import RaySamples, Frustums\n",
    "\n",
    "from reni.configs.reni_config import RENIField\n",
    "from reni.field_components.field_heads import RENIFieldHeadNames\n",
    "from reni.data.datamanagers.reni_datamanager import RENIDataManager\n",
    "from reni.utils.utils import find_nerfstudio_project_root, rot_z\n",
    "from reni.utils.colourspace import linear_to_sRGB\n",
    "\n",
    "# setup config\n",
    "test_mode = 'val'\n",
    "world_size = 1\n",
    "local_rank = 0\n",
    "device = 'cuda:0'\n",
    "\n",
    "project_root = find_nerfstudio_project_root(Path(os.getcwd()))\n",
    "# set current working directory to nerfstudio project root\n",
    "os.chdir(project_root)"
   ]
  },
  {
   "cell_type": "code",
   "execution_count": 2,
   "metadata": {},
   "outputs": [],
   "source": [
    "ndims = 49\n",
    "\n",
    "latest_version = f'/workspace/outputs/reni/old_reni_models/latent_dim_{ndims}/nerfstudio_models/step-000001000.ckpt'\n",
    "\n",
    "example_ckpt = torch.load(latest_version, map_location='cpu')"
   ]
  },
  {
   "cell_type": "code",
   "execution_count": 3,
   "metadata": {},
   "outputs": [],
   "source": [
    "path_to_old_models = Path('/workspace/outputs/old_RENI/RENIVariationalAutoDecoder/network_128_5')\n",
    "config_path = path_to_old_models / f'ndims_{ndims}' / 'files' / 'config.yaml'\n",
    "eval_reni_path = path_to_old_models / f'ndims_{ndims}' / 'files' / 'RENI_Latent.pt'\n",
    "\n",
    "# load config\n",
    "config = yaml.load(open(config_path, 'r'), Loader=yaml.FullLoader)\n",
    "\n",
    "# load checkpoint\n",
    "ckpt = torch.load(eval_reni_path, map_location='cpu')"
   ]
  },
  {
   "cell_type": "code",
   "execution_count": 4,
   "metadata": {},
   "outputs": [
    {
     "name": "stdout",
     "output_type": "stream",
     "text": [
      "Nerfstudio Model eval_mu shape = torch.Size([21, 49, 3])\n",
      "Old model eval_mu shape = torch.Size([21, 49, 3])\n",
      "Nerfstudio Model eval_logvar shape = torch.Size([21, 49, 3])\n",
      "Old model eval_logvar shape = torch.Size([21, 49, 3])\n"
     ]
    }
   ],
   "source": [
    "print(f'Nerfstudio Model eval_mu shape = {example_ckpt[\"pipeline\"][\"_model.field.eval_mu\"].shape}')\n",
    "print(f'Old model eval_mu shape = {ckpt[\"mu\"].shape}')\n",
    "print(f'Nerfstudio Model eval_logvar shape = {example_ckpt[\"pipeline\"][\"_model.field.eval_logvar\"].shape}')\n",
    "print(f'Old model eval_logvar shape = {ckpt[\"log_var\"].shape}')"
   ]
  },
  {
   "cell_type": "code",
   "execution_count": 5,
   "metadata": {},
   "outputs": [
    {
     "name": "stdout",
     "output_type": "stream",
     "text": [
      "_model.field.network.net.0.linear.weight shape = torch.Size([128, 2501])\n",
      "_model.field.network.net.0.linear.bias shape = torch.Size([128])\n",
      "_model.field.network.net.1.linear.weight shape = torch.Size([128, 128])\n",
      "_model.field.network.net.1.linear.bias shape = torch.Size([128])\n",
      "_model.field.network.net.2.linear.weight shape = torch.Size([128, 128])\n",
      "_model.field.network.net.2.linear.bias shape = torch.Size([128])\n",
      "_model.field.network.net.3.linear.weight shape = torch.Size([128, 128])\n",
      "_model.field.network.net.3.linear.bias shape = torch.Size([128])\n",
      "_model.field.network.net.4.linear.weight shape = torch.Size([128, 128])\n",
      "_model.field.network.net.4.linear.bias shape = torch.Size([128])\n",
      "_model.field.network.net.5.linear.weight shape = torch.Size([128, 128])\n",
      "_model.field.network.net.5.linear.bias shape = torch.Size([128])\n",
      "_model.field.network.net.6.linear.weight shape = torch.Size([3, 128])\n",
      "_model.field.network.net.6.linear.bias shape = torch.Size([3])\n",
      "net.0.linear.weight shape = torch.Size([128, 2501])\n",
      "net.0.linear.bias shape = torch.Size([128])\n",
      "net.1.linear.weight shape = torch.Size([128, 128])\n",
      "net.1.linear.bias shape = torch.Size([128])\n",
      "net.2.linear.weight shape = torch.Size([128, 128])\n",
      "net.2.linear.bias shape = torch.Size([128])\n",
      "net.3.linear.weight shape = torch.Size([128, 128])\n",
      "net.3.linear.bias shape = torch.Size([128])\n",
      "net.4.linear.weight shape = torch.Size([128, 128])\n",
      "net.4.linear.bias shape = torch.Size([128])\n",
      "net.5.linear.weight shape = torch.Size([128, 128])\n",
      "net.5.linear.bias shape = torch.Size([128])\n",
      "net.6.linear.weight shape = torch.Size([3, 128])\n",
      "net.6.linear.bias shape = torch.Size([3])\n"
     ]
    }
   ],
   "source": [
    "# for all keys in exmple_ckpt['pipelines'] that start with _model.field.network\n",
    "# print the key and the shape of the value\n",
    "for key, value in example_ckpt['pipeline'].items():\n",
    "    if key.startswith('_model.field.network'):\n",
    "        print(f'{key} shape = {value.shape}')\n",
    "\n",
    "for key, value in ckpt.items():\n",
    "    if key.startswith('net'):\n",
    "        print(f'{key} shape = {value.shape}')"
   ]
  },
  {
   "cell_type": "code",
   "execution_count": 6,
   "metadata": {},
   "outputs": [],
   "source": [
    "# update the nerfstudio model with the old model\n",
    "example_ckpt['pipeline']['_model.field.eval_mu'] = ckpt['mu']\n",
    "example_ckpt['pipeline']['_model.field.eval_logvar'] = ckpt['log_var']\n",
    "example_ckpt['pipeline']['_model.field.train_mu'] = ckpt['mu']\n",
    "# update the network weights\n",
    "for key, value in ckpt.items():\n",
    "    if key.startswith('net'):\n",
    "        example_ckpt['pipeline']['_model.field.network.' + key] = value"
   ]
  },
  {
   "cell_type": "code",
   "execution_count": 8,
   "metadata": {},
   "outputs": [],
   "source": [
    "# overwrite the nerfstudio model with the updated weights\n",
    "torch.save(example_ckpt, latest_version)"
   ]
  },
  {
   "cell_type": "code",
   "execution_count": 7,
   "metadata": {},
   "outputs": [],
   "source": [
    "example_ckpt['pipeline']['_model.field.train_mu'] = torch.zeros((1673, 49, 3)).type_as(example_ckpt['pipeline']['_model.field.train_mu'])\n",
    "example_ckpt['pipeline']['_model.field.train_logvar'] = torch.zeros((1673, 49, 3)).type_as(example_ckpt['pipeline']['_model.field.train_logvar'])\n"
   ]
  },
  {
   "cell_type": "code",
   "execution_count": 35,
   "metadata": {},
   "outputs": [
    {
     "data": {
      "text/plain": [
       "torch.Size([1673, 36, 3])"
      ]
     },
     "execution_count": 35,
     "metadata": {},
     "output_type": "execute_result"
    }
   ],
   "source": [
    "example_ckpt['pipeline']['_model.field.train_logvar'].shape"
   ]
  }
 ],
 "metadata": {
  "kernelspec": {
   "display_name": "Python 3",
   "language": "python",
   "name": "python3"
  },
  "language_info": {
   "codemirror_mode": {
    "name": "ipython",
    "version": 3
   },
   "file_extension": ".py",
   "mimetype": "text/x-python",
   "name": "python",
   "nbconvert_exporter": "python",
   "pygments_lexer": "ipython3",
   "version": "3.10.6"
  },
  "orig_nbformat": 4
 },
 "nbformat": 4,
 "nbformat_minor": 2
}
